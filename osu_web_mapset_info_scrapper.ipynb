{
  "nbformat": 4,
  "nbformat_minor": 0,
  "metadata": {
    "colab": {
      "provenance": [],
      "authorship_tag": "ABX9TyNn6ks7NeZm7/QY6XDdpX9Y",
      "include_colab_link": true
    },
    "kernelspec": {
      "name": "python3",
      "display_name": "Python 3"
    },
    "language_info": {
      "name": "python"
    }
  },
  "cells": [
    {
      "cell_type": "markdown",
      "metadata": {
        "id": "view-in-github",
        "colab_type": "text"
      },
      "source": [
        "<a href=\"https://colab.research.google.com/github/FaputaOsh/osu_tools/blob/main/osu_web_mapset_info_scrapper.ipynb\" target=\"_parent\"><img src=\"https://colab.research.google.com/assets/colab-badge.svg\" alt=\"Open In Colab\"/></a>"
      ]
    },
    {
      "cell_type": "markdown",
      "source": [
        "# About\n",
        "A simple code snippet to grab basic information of a mapset in the web by [Faputa](https://osu.ppy.sh/users/845733).\n",
        "\n",
        "Will develop further aperodically.\n",
        "\n",
        "\n",
        "Input **only one** of the following: \n",
        "\n",
        "*   URL in the form of \"https://osu.ppy.sh/...\"\n",
        "*   Mapset id in the form of \"_________\"\n",
        "\n",
        "Output:\n",
        "\n",
        "*   Artist - Title (Mapper)\n",
        "*   Unicode Artist - Unicode Title (Mapper)\n",
        "*   Mapset cover image link\n",
        "*   Mapset cover image preview\n",
        "\n",
        "\n"
      ],
      "metadata": {
        "id": "bSmDgJ7_r97J"
      }
    },
    {
      "cell_type": "markdown",
      "source": [
        "# Tools (Please run this first)"
      ],
      "metadata": {
        "id": "G6kq272wrfDT"
      }
    },
    {
      "cell_type": "code",
      "source": [
        "!pip install validators\n",
        "import validators\n",
        "import requests\n",
        "import urllib.request as request\n",
        "import json as js\n",
        "import io\n",
        "from PIL import Image\n",
        "from bs4 import BeautifulSoup"
      ],
      "metadata": {
        "id": "Dz2wJhkSreO8"
      },
      "execution_count": null,
      "outputs": []
    },
    {
      "cell_type": "code",
      "source": [
        "def scrapper(URL, Mapset_id):\n",
        "  if (Mapset_id != None):\n",
        "    URL = \"https://osu.ppy.sh/beatmapsets/\" + str(Mapset_id)\n",
        "  elif (Mapset_id != None) & (URL != None):\n",
        "    raise Exception(\"You have inputted both. What do you mean?\")\n",
        "  if not validators.url(URL):\n",
        "    raise Exception(\"Not a URL. Please try again!\")\n",
        "  page = requests.get(URL)\n",
        "  soup = BeautifulSoup(page.content, \"html.parser\")\n",
        "  info = js.loads(soup.find(id=\"json-beatmapset\").prettify().split(\"\\n\")[1])\n",
        "  return info\n",
        "\n",
        "def show_raw(URL, Mapset_id):\n",
        "  info = scrapper(URL, Mapset_id)\n",
        "  display(info)\n",
        "\n",
        "def display_info(URL, Mapset_id, First_output_only = False):\n",
        "  info = scrapper(URL, Mapset_id)\n",
        "  print(info['artist'] + ' - ' + info['title'] + ' (' + info['creator'] + ')')\n",
        "  if (not First_output_only):\n",
        "    print('Unicode: ' + info['artist_unicode'] + ' - ' + info['title_unicode'] + ' (' + info['creator'] + ')')\n",
        "    print(info['covers']['cover'])\n",
        "    print(\"Image preview: (Use the above url to access the non-volatile file)\")\n",
        "    im = Image.open(io.BytesIO(request.urlopen(info['covers']['cover']).read()))\n",
        "    display(im)\n"
      ],
      "metadata": {
        "id": "8RLASGis12Oz"
      },
      "execution_count": null,
      "outputs": []
    },
    {
      "cell_type": "markdown",
      "source": [
        "## Debug"
      ],
      "metadata": {
        "id": "P_VP1wFR5aeR"
      }
    },
    {
      "cell_type": "code",
      "source": [
        "show_raw(URL, Mapset_id)"
      ],
      "metadata": {
        "id": "0WGRuch-5cY5"
      },
      "execution_count": null,
      "outputs": []
    },
    {
      "cell_type": "markdown",
      "source": [
        "# Access here"
      ],
      "metadata": {
        "id": "MxvT6ci78bKM"
      }
    },
    {
      "cell_type": "code",
      "execution_count": null,
      "metadata": {
        "cellView": "form",
        "id": "V_gPbrzzqD9p"
      },
      "outputs": [],
      "source": [
        "#@title Mapset URL\n",
        "URL = \"https://osu.ppy.sh/beatmapsets/1734692#taiko/3545502\" #@param {type:\"string\"}\n",
        "Mapset_id = None #@param {type:\"integer\"}\n"
      ]
    },
    {
      "cell_type": "code",
      "source": [
        "#@title Settings\n",
        "First_output_only = False #@param {type:\"boolean\"}\n"
      ],
      "metadata": {
        "id": "VLu396JoGnuo"
      },
      "execution_count": null,
      "outputs": []
    },
    {
      "cell_type": "markdown",
      "source": [
        "## Output"
      ],
      "metadata": {
        "id": "wEm8Dts-4pZf"
      }
    },
    {
      "cell_type": "code",
      "source": [
        "display_info(URL, Mapset_id, First_output_only = First_output_only)"
      ],
      "metadata": {
        "id": "97quy1Ni3QwI"
      },
      "execution_count": null,
      "outputs": []
    }
  ]
}